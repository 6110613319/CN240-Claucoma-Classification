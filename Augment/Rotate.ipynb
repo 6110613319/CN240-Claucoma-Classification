{
 "cells": [
  {
   "cell_type": "code",
   "execution_count": null,
   "id": "expanded-sitting",
   "metadata": {},
   "outputs": [],
   "source": [
    "import matplotlib.pyplot as plt\n",
    "import matplotlib.patches as patches\n",
    "import numpy as np\n",
    "import cv2\n",
    "import imutils\n",
    "from pathlib import Path\n",
    "from scipy import ndimage\n",
    "def read_image(path):\n",
    "    img = cv2.imread(str(path))\n",
    "    return cv2.cvtColor(img, cv2.IMREAD_GRAYSCALE)\n",
    "image_paths = list(Path('./glaucoma').iterdir()) \n",
    "images = [read_image(p) for p in image_paths]\n",
    "for i in range(len(images)):\n",
    "        print(images[i].shape, images[i].dtype)"
   ]
  },
  {
   "cell_type": "code",
   "execution_count": null,
   "id": "indian-methodology",
   "metadata": {},
   "outputs": [],
   "source": [
    "fig = plt.figure(figsize=(20,20))\n",
    "columns = 4\n",
    "rows = 4\n",
    "angle = 20\n",
    "\n",
    "rotated_img = []\n",
    "for i in range(len(images)):\n",
    "    rotated = imutils.rotate_bound(images[i], angle)\n",
    "    rotated_img.append(rotated)\n",
    "\n",
    "for i in range(len(rotated_img)):\n",
    "    cv2.imwrite('./glaucoma_rotated_20/glaucoma_20_rotated_'+str(i)+'.jpg', rotated_img[i]) #save new filename image to new folder\n",
    "\n",
    "pics = []\n",
    "for i in range(columns*rows):\n",
    "    pics.append(fig.add_subplot(rows, columns, i+1,title=image_paths[i].parts[-1].split('.')[0]))\n",
    "    plt.imshow(rotated_img[i])\n",
    "    \n",
    "plt.show()"
   ]
  }
 ],
 "metadata": {
  "kernelspec": {
   "display_name": "Python 3",
   "language": "python",
   "name": "python3"
  },
  "language_info": {
   "codemirror_mode": {
    "name": "ipython",
    "version": 3
   },
   "file_extension": ".py",
   "mimetype": "text/x-python",
   "name": "python",
   "nbconvert_exporter": "python",
   "pygments_lexer": "ipython3",
   "version": "3.8.2"
  }
 },
 "nbformat": 4,
 "nbformat_minor": 5
}
