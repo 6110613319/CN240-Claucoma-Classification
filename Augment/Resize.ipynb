{
 "cells": [
  {
   "cell_type": "code",
   "execution_count": null,
   "id": "further-helmet",
   "metadata": {},
   "outputs": [],
   "source": [
    "import matplotlib.pyplot as plt\n",
    "import matplotlib.patches as patches\n",
    "import numpy as np\n",
    "import cv2\n",
    "import random\n",
    "from pathlib import Path\n",
    "def read_image(path):\n",
    "    img = cv2.imread(str(path))\n",
    "    return cv2.cvtColor(img, cv2.IMREAD_GRAYSCALE)\n",
    "image_paths = list(Path('./testdata2/Normal').iterdir())  #load images from folder \n",
    "images = [read_image(p) for p in image_paths]\n",
    "for i in range(len(images)): \n",
    "        print(images[i].shape, images[i].dtype)"
   ]
  },
  {
   "cell_type": "code",
   "execution_count": null,
   "id": "registered-silver",
   "metadata": {},
   "outputs": [],
   "source": [
    "fig = plt.figure(figsize=(20,20))\n",
    "columns = 1\n",
    "rows = 1\n",
    "height = 256\n",
    "width = 256\n",
    "dim = (width, height)\n",
    "res_img = []\n",
    "for i in range(len(images)):\n",
    "    res = cv2.resize(images[i], dim, interpolation=cv2.INTER_LINEAR)\n",
    "    res_img.append(res)\n",
    "    \n",
    "for i in range(len(res_img)):\n",
    "    cv2.imwrite('./test_pic/Normal_256/normal_resized256_'+str(i)+'.jpg', res_img[i]) #save new filename image to new folder\n",
    "    \n",
    "pics = []\n",
    "for i in range(columns*rows):\n",
    "    pics.append(fig.add_subplot(rows, columns, i+1,title=image_paths[i].parts[-1].split('.')[0]))\n",
    "    plt.imshow(res_img[i])\n",
    "    \n",
    "plt.show()"
   ]
  },
  {
   "cell_type": "code",
   "execution_count": null,
   "id": "deluxe-broadcast",
   "metadata": {},
   "outputs": [],
   "source": []
  }
 ],
 "metadata": {
  "kernelspec": {
   "display_name": "Python 3",
   "language": "python",
   "name": "python3"
  },
  "language_info": {
   "codemirror_mode": {
    "name": "ipython",
    "version": 3
   },
   "file_extension": ".py",
   "mimetype": "text/x-python",
   "name": "python",
   "nbconvert_exporter": "python",
   "pygments_lexer": "ipython3",
   "version": "3.8.2"
  }
 },
 "nbformat": 4,
 "nbformat_minor": 5
}
