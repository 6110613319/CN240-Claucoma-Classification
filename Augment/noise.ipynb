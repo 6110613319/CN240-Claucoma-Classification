{
 "cells": [
  {
   "cell_type": "code",
   "execution_count": null,
   "id": "bottom-variance",
   "metadata": {},
   "outputs": [],
   "source": [
    "import matplotlib.pyplot as plt\n",
    "import matplotlib.patches as patches\n",
    "import numpy as np\n",
    "import cv2\n",
    "import random\n",
    "from pathlib import Path\n",
    "def read_image(path):\n",
    "    img = cv2.imread(str(path))\n",
    "    return cv2.cvtColor(img, cv2.IMREAD_GRAYSCALE)\n",
    "image_paths = list(Path('./glaucoma').iterdir())  #load images from folder \n",
    "images = [read_image(p) for p in image_paths]\n",
    "for i in range(len(images)): \n",
    "        print(images[i].shape, images[i].dtype)"
   ]
  },
  {
   "cell_type": "code",
   "execution_count": null,
   "id": "elect-florida",
   "metadata": {},
   "outputs": [],
   "source": [
    "fig = plt.figure(figsize=(20,20))\n",
    "columns = 1\n",
    "rows = 1\n",
    "noise_img = []\n",
    "def sp_noise(image,prob):\n",
    "    output = np.zeros(image.shape,np.uint8)\n",
    "    thres = 1 - prob \n",
    "    for i in range(image.shape[0]):\n",
    "        for j in range(image.shape[1]):\n",
    "            rdn = random.random()\n",
    "            if rdn < prob:\n",
    "                output[i][j] = 0\n",
    "            elif rdn > thres:\n",
    "                output[i][j] = 255\n",
    "            else:\n",
    "                output[i][j] = image[i][j]\n",
    "    return output\n",
    "\n",
    "for i in range(len(images)):\n",
    "    noise = sp_noise(images[i],0.001)\n",
    "    noise_img.append(noise)\n",
    "    \n",
    "for i in range(len(noise_img)):\n",
    "    cv2.imwrite('./result_sample/_noise_'+str(i)+'.jpg', noise_img[i]) #save new filename image to new folder\n",
    "    \n",
    "pics = []\n",
    "for i in range(columns*rows):\n",
    "    pics.append(fig.add_subplot(rows, columns, i+1,title=image_paths[i].parts[-1].split('.')[0]))\n",
    "    plt.imshow(noise_img[i])\n",
    "    \n",
    "plt.show()"
   ]
  }
 ],
 "metadata": {
  "kernelspec": {
   "display_name": "Python 3",
   "language": "python",
   "name": "python3"
  },
  "language_info": {
   "codemirror_mode": {
    "name": "ipython",
    "version": 3
   },
   "file_extension": ".py",
   "mimetype": "text/x-python",
   "name": "python",
   "nbconvert_exporter": "python",
   "pygments_lexer": "ipython3",
   "version": "3.8.2"
  }
 },
 "nbformat": 4,
 "nbformat_minor": 5
}
